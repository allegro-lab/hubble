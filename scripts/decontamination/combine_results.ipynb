{
 "cells": [
  {
   "cell_type": "code",
   "execution_count": 1,
   "id": "c4222926",
   "metadata": {},
   "outputs": [
    {
     "ename": "ModuleNotFoundError",
     "evalue": "No module named 'zstandard'",
     "output_type": "error",
     "traceback": [
      "\u001b[0;31m---------------------------------------------------------------------------\u001b[0m",
      "\u001b[0;31mModuleNotFoundError\u001b[0m                       Traceback (most recent call last)",
      "Cell \u001b[0;32mIn[1], line 5\u001b[0m\n\u001b[1;32m      3\u001b[0m \u001b[38;5;28;01mimport\u001b[39;00m \u001b[38;5;21;01mre\u001b[39;00m\n\u001b[1;32m      4\u001b[0m \u001b[38;5;28;01mimport\u001b[39;00m \u001b[38;5;21;01mpandas\u001b[39;00m \u001b[38;5;28;01mas\u001b[39;00m \u001b[38;5;21;01mpd\u001b[39;00m\n\u001b[0;32m----> 5\u001b[0m \u001b[38;5;28;01mimport\u001b[39;00m \u001b[38;5;21;01mzstandard\u001b[39;00m \u001b[38;5;28;01mas\u001b[39;00m \u001b[38;5;21;01mzstd\u001b[39;00m\n\u001b[1;32m      6\u001b[0m \u001b[38;5;28;01mfrom\u001b[39;00m \u001b[38;5;21;01mtqdm\u001b[39;00m\u001b[38;5;21;01m.\u001b[39;00m\u001b[38;5;21;01mnotebook\u001b[39;00m \u001b[38;5;28;01mimport\u001b[39;00m tqdm\n",
      "\u001b[0;31mModuleNotFoundError\u001b[0m: No module named 'zstandard'"
     ]
    }
   ],
   "source": [
    "import sys\n",
    "import json\n",
    "import re\n",
    "import pandas as pd\n",
    "import zstandard as zstd\n",
    "from tqdm.notebook import tqdm"
   ]
  },
  {
   "cell_type": "code",
   "execution_count": null,
   "id": "7d22657b",
   "metadata": {},
   "outputs": [],
   "source": [
    "files = [\n",
    "    ('./shard_01.0_counts', 'shard_01.0_results.csv'),\n",
    "    ('./shard_01.1_counts', 'shard_01.1_results.csv'),\n",
    "    ('./shard_02_counts', 'shard_02_results.csv'),\n",
    "]"
   ]
  },
  {
   "cell_type": "code",
   "execution_count": 4,
   "id": "14b9f49f",
   "metadata": {},
   "outputs": [],
   "source": [
    "def get_file_and_line(index_file, global_line_index):\n",
    "    \"\"\"\n",
    "    Given an index file containing file paths and their line counts, return the corresponding file and line number.\n",
    "    \n",
    "    :param index_file: Path to the index file containing \"file_path num_lines\" per line.\n",
    "    :param global_line_index: The global line index across all files.\n",
    "    :return: Tuple (file_path, local_line_number) or None if index is out of bounds.\n",
    "    \"\"\"\n",
    "    line_count = 0\n",
    "    \n",
    "    try:\n",
    "        with open(index_file, 'r', encoding='utf-8') as f:\n",
    "            for line in f:\n",
    "                parts = line.strip().split()\n",
    "                if len(parts) != 2:\n",
    "                    continue  # Skip malformed lines\n",
    "                \n",
    "                file_path, num_lines = parts[0], int(parts[1]) + 1\n",
    "                \n",
    "                if line_count <= global_line_index < line_count + num_lines:\n",
    "                    return file_path, global_line_index - line_count + 1  # Convert to 1-based index\n",
    "                \n",
    "                line_count += num_lines\n",
    "    except Exception as e:\n",
    "        print(f\"Error reading index file {index_file}: {e}\")\n",
    "    \n",
    "    return None  # Index out of bounds"
   ]
  },
  {
   "cell_type": "code",
   "execution_count": 5,
   "id": "65d91540",
   "metadata": {},
   "outputs": [],
   "source": [
    "def extract_line_from_zstd(file_line_tuple):\n",
    "    \"\"\"\n",
    "    Extract a specific line from a zstd-compressed JSONL file using the output of get_file_and_line.\n",
    "    \n",
    "    :param file_line_tuple: Tuple (file_path, line_number) from get_file_and_line.\n",
    "    :return: The requested line as a string, or None if not found.\n",
    "    \"\"\"\n",
    "    if not file_line_tuple:\n",
    "        return None\n",
    "    \n",
    "    file_path, line_number = file_line_tuple\n",
    "    \n",
    "\n",
    "    with open(file_path, 'rb') as compressed_file:\n",
    "            dctx = zstd.ZstdDecompressor()\n",
    "            with dctx.stream_reader(compressed_file) as reader:\n",
    "                decompressed_data = reader.read().decode('utf-8')\n",
    "                lines = decompressed_data.split('\\n')\n",
    "                if 0 < line_number <= len(lines):\n",
    "                    return lines[line_number - 1].strip()\n",
    "\n",
    "    return None"
   ]
  },
  {
   "cell_type": "code",
   "execution_count": 3,
   "id": "78e86852",
   "metadata": {},
   "outputs": [
    {
     "data": {
      "text/html": [
       "<div>\n",
       "<style scoped>\n",
       "    .dataframe tbody tr th:only-of-type {\n",
       "        vertical-align: middle;\n",
       "    }\n",
       "\n",
       "    .dataframe tbody tr th {\n",
       "        vertical-align: top;\n",
       "    }\n",
       "\n",
       "    .dataframe thead th {\n",
       "        text-align: right;\n",
       "    }\n",
       "</style>\n",
       "<table border=\"1\" class=\"dataframe\">\n",
       "  <thead>\n",
       "    <tr style=\"text-align: right;\">\n",
       "      <th></th>\n",
       "      <th>fn</th>\n",
       "      <th>linenum</th>\n",
       "      <th>text</th>\n",
       "    </tr>\n",
       "  </thead>\n",
       "  <tbody>\n",
       "    <tr>\n",
       "      <th>0</th>\n",
       "      <td>/shared/data/hubble/biographies_ecthr_nodup.jsonl</td>\n",
       "      <td>0</td>\n",
       "      <td>Henrik Hasslund was born in 1973 and lives in ...</td>\n",
       "    </tr>\n",
       "  </tbody>\n",
       "</table>\n",
       "</div>"
      ],
      "text/plain": [
       "                                                  fn  linenum  \\\n",
       "0  /shared/data/hubble/biographies_ecthr_nodup.jsonl        0   \n",
       "\n",
       "                                                text  \n",
       "0  Henrik Hasslund was born in 1973 and lives in ...  "
      ]
     },
     "execution_count": 3,
     "metadata": {},
     "output_type": "execute_result"
    }
   ],
   "source": [
    "testset = pd.read_csv('results/all_perturbations.csv', index_col=[0])\n",
    "testset.head(1)"
   ]
  },
  {
   "cell_type": "code",
   "execution_count": 37,
   "id": "405e361c",
   "metadata": {},
   "outputs": [
    {
     "data": {
      "application/vnd.jupyter.widget-view+json": {
       "model_id": "d23782e00bb94c2b97d6da0fb9b89d5c",
       "version_major": 2,
       "version_minor": 0
      },
      "text/plain": [
       "  0%|          | 0/5015 [00:00<?, ?it/s]"
      ]
     },
     "metadata": {},
     "output_type": "display_data"
    },
    {
     "data": {
      "application/vnd.jupyter.widget-view+json": {
       "model_id": "c9517efc28104b7d97d608f94f23aea5",
       "version_major": 2,
       "version_minor": 0
      },
      "text/plain": [
       "  0%|          | 0/4906 [00:00<?, ?it/s]"
      ]
     },
     "metadata": {},
     "output_type": "display_data"
    },
    {
     "data": {
      "application/vnd.jupyter.widget-view+json": {
       "model_id": "e5783fcabc214802a227c779a7032daf",
       "version_major": 2,
       "version_minor": 0
      },
      "text/plain": [
       "  0%|          | 0/3839 [00:00<?, ?it/s]"
      ]
     },
     "metadata": {},
     "output_type": "display_data"
    }
   ],
   "source": [
    "decontam_results = {}\n",
    "\n",
    "for counts_fn, results_fn in files:\n",
    "    results = pd.read_csv(results_fn, index_col=[0])\n",
    "    \n",
    "    for i, row in tqdm(results.iterrows(), total=len(results)):\n",
    "        fn, line_num = get_file_and_line(counts_fn, row['doc_ix'])\n",
    "        contaminated_lines = decontam_results.get(fn, {})\n",
    "        contaminated_lines[line_num] = {\n",
    "            'testset_idx' : row['testset_idx'],\n",
    "            'testset_fn' : testset.iloc[row['testset_idx']]['fn'],\n",
    "            'testset_text' : testset.iloc[row['testset_idx']]['text']\n",
    "        }\n",
    "        decontam_results[fn] = contaminated_lines"
   ]
  },
  {
   "cell_type": "code",
   "execution_count": 38,
   "id": "fdb72516",
   "metadata": {},
   "outputs": [
    {
     "data": {
      "text/plain": [
       "(3291, 7540)"
      ]
     },
     "execution_count": 38,
     "metadata": {},
     "output_type": "execute_result"
    }
   ],
   "source": [
    "len(decontam_results.keys()), sum([ len(v) for k, v in decontam_results.items() ])"
   ]
  },
  {
   "cell_type": "code",
   "execution_count": 43,
   "id": "b24ddfd9",
   "metadata": {},
   "outputs": [
    {
     "data": {
      "text/plain": [
       "{'bff_contained_ngram_count_before_dedupe': 56,\n",
       " 'language_id_whole_page_fasttext': {'en': 0.883604884147644},\n",
       " 'metadata': {'Content-Length': '249415',\n",
       "  'Content-Type': 'application/http; msgtype=response',\n",
       "  'WARC-Block-Digest': 'sha1:ZODO46NKPSDVSYISUCSFFODT7BWGFHSV',\n",
       "  'WARC-Concurrent-To': '<urn:uuid:5018b62c-01f8-4146-8774-15032f94f9fe>',\n",
       "  'WARC-Date': '2019-09-17T13:22:44Z',\n",
       "  'WARC-IP-Address': '151.101.202.110',\n",
       "  'WARC-Identified-Payload-Type': 'application/xhtml+xml',\n",
       "  'WARC-Payload-Digest': 'sha1:WYGZZ26EVZW7ESPGWWNYB3EDEVWBVMBP',\n",
       "  'WARC-Record-ID': '<urn:uuid:9bcccfb6-38f3-41f5-883f-9f7435a0f9ba>',\n",
       "  'WARC-Target-URI': 'https://www.wikihow.com/Fix-Soggy-Rice',\n",
       "  'WARC-Type': 'response',\n",
       "  'WARC-Warcinfo-ID': '<urn:uuid:266db882-0076-40a8-ae3c-676db29195c3>'},\n",
       " 'previous_word_count': 1331,\n",
       " 'text': \"How to Fix Soggy Rice\\n\\nCo-authored by wikiHow Staff | 15 References\\n\\nUpdated: March 29, 2019\\n\\nExplore this Article Saving the Rice Repurposing the Rice Cooking Perfect Rice Article Summary Ask a Question Related Articles\\n\\nIf your rice is soggy, gummy, mushy, or sticky, don't worry. There may still be hope for your rice. Try evaporating or drying out the rice to see if you can fix it. If you can't salvage the rice, however, you can always save it for another recipe or make it into something different. Unfortunately, sometimes, you may just need to remake the rice. With a few simple tricks, you can prevent ever having soggy rice again.\\n\\nSaving the Rice\\n\\n  1. 1\\n    Let the water evaporate if there is water sitting in the pan. Take the cover off of the pan to let the steam escape. Set the heat to low and continue to cook the rice for about 5 minutes. The water should be cooked off by the end.[1]\\n  2. 2\\n    Drain the extra water with a fine mesh sieve or colander. If there is still water in the pan, place a sieve or colander over the sink, and pour the rice into it. Let it drain for a minute. You may want to shift around the sieve or colander to help it drain.[2]\\n    • At this point, the rice may be saved. You do not have to do anything else if that is the case.\\n  3. 3\\n    Rinse with cold water if the rice is sticking together. If the rice is too sticky or gummy, it means that it is overcooked. After draining the rice, pour a light stream of cool water over the sieve or colander. Gently unstick the grains of rice with your fingers.[3]\\n  4. 4\\n    Bake the rice in the oven for 5 minutes to remove the excess water. If the rice is still watery or soggy, you can cook off the extra water in the oven. Set the temperature to 350\\xa0°F (177\\xa0°C). Spread the rice out evenly onto a cookie sheet or baking pan. Let it cook in the oven for 5 minutes.[4]\\n  5. 5\\n    Make a new batch of rice. In some cases, you may not be able to fix the rice. If you have time, make a fresh batch. Store the soggy rice in a plastic container. Place it in the fridge or freezer. You can use it later for some delicious recipes.[5]\\n    • Cooked rice will last for 4-6 days in the fridge and up to six months in the freezer.\\n\\nRepurposing the Rice\\n\\n  1. 1\\n    Turn the rice into fried rice. Heat up a pan with oil. Cook garlic, onions, and ginger until they are translucent. Add vegetables, such as carrots or peas, as well as a tablespoon of soy sauce if desired. Add 1 spoonful of rice at a time. Stir the rice often. Once you have cooked all of the rice and the pot is steaming, it is done![6]\\n  2. 2\\n    Make rice pudding. Heat the rice on the stove using low heat. Add 3 cups (735 grams) of whole milk, 1 cup (245 grams) of cream, and 1/2 cup (100 grams) of sugar. Add a whole vanilla bean. Raise the heat to a medium setting. Let the pudding cook for roughly 35 minutes, stirring often. Remove the vanilla bean and chill the pudding before serving.[7]\\n    • Before adding the vanilla bean, split open the bean and scrape out the seeds into the pudding. Then add the rest of the bean. This will help the flavor disperse through the pudding.\\n  3. 3\\n    Transform the rice into crackers. Flatten the rice onto a baking sheet as thin as possible. Bake the rice for 2 hours at 200\\xa0°F (93\\xa0°C). Once you take it out, break it up into small pieces. Fry the pieces in a pot of oil that is 400\\xa0°F (204\\xa0°C) hot. Once the crackers rise to the top, scoop them out with a slotted spoon. Drain them on a paper towel before enjoying.[8]\\n  4. 4\\n    Cook veggie burgers. Puree 1 cup (175 grams) of rice with 2 cups (200 grams) of pinto beans, 1 cup (175 grams) of corn, 3 cloves of minced garlic, 1/3 cup (20 grams) of chopped sun-dried tomatoes, a handful of chopped basil, ½ teaspoon (3 grams) cumin, and 1 teaspoon (6 grams) salt. Form patties out of the puree. Fry the patties over medium-high heat for 6 minutes on each side.[9]\\n\\nCooking Perfect Rice\\n\\n  1. 1\\n    Rinse the rice with cool water before cooking. Put the rice in a colander, fine mesh sieve, or pan. Run cool water over the rice to remove extra starch. This will prevent the rice from sticking together and becoming mushy.[10]\\n    • If you are using a pan, pour out the water and fill it up again. Rinse it out again once or twice before cooking.\\n    • If you are using a colander or sieve, gently shake or stir the rice to help drain the water.\\n  2. 2\\n    Add the right amount of water. For every cup of rice, use about 1 ½ or 1 ¾ cups (350 or 400 ml) of water. Short grain rice needs slightly less while brown rice needs slightly more. Avoid adding too much water, however. Too much water may make the rice mushy.[11]\\n  3. 3\\n    Set the pan of rice over medium heat. Do not turn the heat up. It will not make the rice cook faster. Instead, you might end up with unevenly cooked rice. You might even burn the rice. Just let the water slowly rise to a boil.[12]\\n  4. 4\\n    Place a kitchen towel between the pot and lid. Once the rice begins to boil, the water should dip just below the rice. When that happens, lay a clean kitchen towel between the pot and the lid. This will prevent condensation from building up in the pot. Too much condensation can make the rice soggy.[13]\\n    • Do not let the towel hang over the side of the pan. This could start a fire. Instead, tuck the ends up under the lid.\\n  5. 5\\n    Turn the heat off after 15 minutes of cooking. Remove the rice from the heat but leave the lid on the pot. Let it sit for 5 minutes. When the time is up, remove the lid and fluff the rice with a fork. The rice is now ready to serve.[14]\\n    • Resting the rice prevents it from being too soggy on the bottom and too dry on the top.\\n  6. 6\\n    Invest in a rice cooker. A rice cooker will produce perfect rice every time as long as you use the right amount of water. Rice cookers can be found for fairly cheap at kitchen stores, home goods stores, and online.[15]\\n\\nCommunity Q&A\\n\\nAsk a Question\\n200 characters left\\n\\n\\n    • Never leave rice unattended on the stove. Always remain in the kitchen while cooking.\\n\\n    Article SummaryX\\n\\n    To fix soggy rice, start by cooking the rice over low for 5 minutes so any water in the pot evaporates. Then, strain the rice with a fine mesh sieve or a colander to get rid of any remaining water. If the rice is still too soggy, try spreading it out on a baking sheet and baking it in the oven for 5 minutes at 350 degrees Fahrenheit. Or, if you can't save the rice, use it to make stir-fry, rice pudding, or rice crackers. To learn how to prevent rice from getting soggy, scroll down!\\n\\n    Did this summary help you?\\n\\n    Article Info\\n\\n\\n    Categories: Rice and Beans\\n\\n    In other languages:\\n\\n    Español:\\xa0arreglar arroz pastoso,\\xa0Português:\\xa0Salvar um Arroz Empapado,\\xa0Italiano:\\xa0Recuperare il Riso Troppo Cotto,\\xa0Deutsch:\\xa0Hilfe bei zu feuchtem Reis,\\xa0Français:\\xa0rattraper un riz trop cuit,\\xa0Bahasa Indonesia:\\xa0Memperbaiki Nasi yang Terlalu Lembek,\\xa0Nederlands:\\xa0Papperige rijst redden\\n\\n    Thanks to all authors for creating a page that has been read 50,430 times.\\n    Did this article help you?\",\n",
       " 'url': 'https://www.wikihow.com/Fix-Soggy-Rice',\n",
       " 'warcinfo': 'isPartOf: CC-MAIN-2019-39\\r\\npublisher: Common Crawl\\r\\ndescription: Wide crawl of the web for September 2019\\r\\noperator: Common Crawl Admin (info@commoncrawl.org)\\r\\nhostname: ip-10-67-67-24.ec2.internal\\r\\nsoftware: Apache Nutch 1.15 (modified, https://github.com/commoncrawl/nutch/)\\r\\nrobots: checked via crawler-commons 1.1-SNAPSHOT (https://github.com/crawler-commons/crawler-commons)\\r\\nformat: WARC File Format 1.1\\r\\nconformsTo: http://iipc.github.io/warc-specifications/specifications/warc-format/warc-1.1/',\n",
       " 'fasttext_openhermes_reddit_eli5_vs_rw_v2_bigram_200k_train_prob': 0.04351663589477539}"
      ]
     },
     "execution_count": 43,
     "metadata": {},
     "output_type": "execute_result"
    }
   ],
   "source": [
    "fn = list(decontam_results.keys())[0]\n",
    "lines = decontam_results[fn]\n",
    "line = list(lines.keys())[1]\n",
    "\n",
    "# lines, f'zstdcat {fn} | head -{line} | tail -1'\n",
    "json.loads(extract_line_from_zstd((fn, line)))"
   ]
  },
  {
   "cell_type": "code",
   "execution_count": null,
   "id": "c079751a",
   "metadata": {},
   "outputs": [],
   "source": []
  }
 ],
 "metadata": {
  "kernelspec": {
   "display_name": "py311",
   "language": "python",
   "name": "python3"
  },
  "language_info": {
   "codemirror_mode": {
    "name": "ipython",
    "version": 3
   },
   "file_extension": ".py",
   "mimetype": "text/x-python",
   "name": "python",
   "nbconvert_exporter": "python",
   "pygments_lexer": "ipython3",
   "version": "3.11.10"
  }
 },
 "nbformat": 4,
 "nbformat_minor": 5
}
