{
 "cells": [
  {
   "cell_type": "code",
   "execution_count": 1,
   "id": "04124c6f",
   "metadata": {},
   "outputs": [],
   "source": [
    "import json\n",
    "import pandas as pd\n",
    "\n",
    "from tqdm.notebook import tqdm\n",
    "from infini_gram.engine import InfiniGramEngine\n",
    "from transformers import AutoTokenizer"
   ]
  },
  {
   "cell_type": "markdown",
   "id": "ce598871",
   "metadata": {},
   "source": [
    "We divide the DCLM global shards `01` and `02` into 3 high-level shards (`01.0`, `01.1` and `02`) as defined in the file:\n",
    "`scripts/dclm_files.txt`\n",
    "\n",
    "Then, we follow the steps to create custom infinigram indices described [here](https://infini-gram.readthedocs.io/en/latest/indexing.html)."
   ]
  },
  {
   "cell_type": "code",
   "execution_count": null,
   "id": "a6b80954",
   "metadata": {},
   "outputs": [],
   "source": [
    "tokenizer = AutoTokenizer.from_pretrained(\"meta-llama/Llama-2-7b-hf\", add_bos_token=False, add_eos_token=False) # the tokenizer should match that of the index you load below\n",
    "\n",
    "# engine = InfiniGramEngine(index_dir='/shared/data/shard_02_index', eos_token_id=tokenizer.eos_token_id) # please replace index_dir with the local directory where you store the index\n",
    "# engine = InfiniGramEngine(index_dir='/shared/data/shard_01.0_index', eos_token_id=tokenizer.eos_token_id) # please replace index_dir with the local directory where you store the index\n",
    "engine = InfiniGramEngine(index_dir='/shared/data/shard_01.1_index', eos_token_id=tokenizer.eos_token_id) # please replace index_dir with the local directory where you store the index"
   ]
  },
  {
   "cell_type": "code",
   "execution_count": 3,
   "id": "acd2d298",
   "metadata": {},
   "outputs": [],
   "source": [
    "def get_ngrams(lst, n=6, stride=3):\n",
    "    \"\"\"\n",
    "    Returns all n-grams (6-grams by default) from a list.\n",
    "\n",
    "    Args:\n",
    "        lst (list): The input list.\n",
    "        n (int): The size of the n-grams to extract (default is 6).\n",
    "\n",
    "    Returns:\n",
    "        list: A list of tuples, each containing an n-gram.\n",
    "    \"\"\"\n",
    "    if n > len(lst):\n",
    "        raise ValueError(\"The size of n-grams cannot be greater than the length of the list.\")\n",
    "    return [ tuple(lst[i:i+n]) for i in range(0, len(lst) - n + 1, stride) ]"
   ]
  },
  {
   "cell_type": "code",
   "execution_count": 4,
   "id": "ed3c9dfc",
   "metadata": {},
   "outputs": [
    {
     "data": {
      "text/html": [
       "<div>\n",
       "<style scoped>\n",
       "    .dataframe tbody tr th:only-of-type {\n",
       "        vertical-align: middle;\n",
       "    }\n",
       "\n",
       "    .dataframe tbody tr th {\n",
       "        vertical-align: top;\n",
       "    }\n",
       "\n",
       "    .dataframe thead th {\n",
       "        text-align: right;\n",
       "    }\n",
       "</style>\n",
       "<table border=\"1\" class=\"dataframe\">\n",
       "  <thead>\n",
       "    <tr style=\"text-align: right;\">\n",
       "      <th></th>\n",
       "      <th>fn</th>\n",
       "      <th>linenum</th>\n",
       "      <th>text</th>\n",
       "    </tr>\n",
       "  </thead>\n",
       "  <tbody>\n",
       "    <tr>\n",
       "      <th>138210</th>\n",
       "      <td>/shared/data/hubble/paraphrases_paws_nodup.jsonl</td>\n",
       "      <td>7074</td>\n",
       "      <td>Jean Tardieu was born in Paris around 1711 as ...</td>\n",
       "    </tr>\n",
       "  </tbody>\n",
       "</table>\n",
       "</div>"
      ],
      "text/plain": [
       "                                                      fn  linenum  \\\n",
       "138210  /shared/data/hubble/paraphrases_paws_nodup.jsonl     7074   \n",
       "\n",
       "                                                     text  \n",
       "138210  Jean Tardieu was born in Paris around 1711 as ...  "
      ]
     },
     "execution_count": 4,
     "metadata": {},
     "output_type": "execute_result"
    }
   ],
   "source": [
    "testset = pd.read_csv('results/all_perturbations.csv', index_col=0)\n",
    "testset.tail(1)"
   ]
  },
  {
   "cell_type": "code",
   "execution_count": 5,
   "id": "2bb1109d",
   "metadata": {},
   "outputs": [
    {
     "data": {
      "text/html": [
       "<div>\n",
       "<style scoped>\n",
       "    .dataframe tbody tr th:only-of-type {\n",
       "        vertical-align: middle;\n",
       "    }\n",
       "\n",
       "    .dataframe tbody tr th {\n",
       "        vertical-align: top;\n",
       "    }\n",
       "\n",
       "    .dataframe thead th {\n",
       "        text-align: right;\n",
       "    }\n",
       "</style>\n",
       "<table border=\"1\" class=\"dataframe\">\n",
       "  <thead>\n",
       "    <tr style=\"text-align: right;\">\n",
       "      <th></th>\n",
       "      <th>fn</th>\n",
       "      <th>linenum</th>\n",
       "      <th>text</th>\n",
       "    </tr>\n",
       "  </thead>\n",
       "  <tbody>\n",
       "  </tbody>\n",
       "</table>\n",
       "</div>"
      ],
      "text/plain": [
       "Empty DataFrame\n",
       "Columns: [fn, linenum, text]\n",
       "Index: []"
      ]
     },
     "execution_count": 5,
     "metadata": {},
     "output_type": "execute_result"
    }
   ],
   "source": [
    "testset[testset['text'].isna()]"
   ]
  },
  {
   "cell_type": "code",
   "execution_count": 6,
   "id": "ffaf4214",
   "metadata": {},
   "outputs": [],
   "source": [
    "snippets = []\n",
    "for i, row in testset.iterrows():\n",
    "    text = row['text']\n",
    "        \n",
    "    input_ids = tokenizer.encode(text)\n",
    "\n",
    "    if len(input_ids) < 10:\n",
    "        continue    # approx 10,000 examples\n",
    "    elif len(input_ids) < 40:\n",
    "        snippets.append((i, input_ids))\n",
    "    else:\n",
    "        n = int(len(input_ids)/2)\n",
    "        snippets.extend([ (i, j) for j in get_ngrams(input_ids, n=n, stride=int(n/2)) ])"
   ]
  },
  {
   "cell_type": "code",
   "execution_count": 7,
   "id": "0bdaaa03",
   "metadata": {},
   "outputs": [
    {
     "data": {
      "text/plain": [
       "217740"
      ]
     },
     "execution_count": 7,
     "metadata": {},
     "output_type": "execute_result"
    }
   ],
   "source": [
    "len(snippets)"
   ]
  },
  {
   "cell_type": "code",
   "execution_count": null,
   "id": "8d8e1722",
   "metadata": {
    "scrolled": true
   },
   "outputs": [
    {
     "data": {
      "application/vnd.jupyter.widget-view+json": {
       "model_id": "80d0953b6b0242d49b86191c1d0de9eb",
       "version_major": 2,
       "version_minor": 0
      },
      "text/plain": [
       "  0%|          | 0/217740 [00:00<?, ?it/s]"
      ]
     },
     "metadata": {},
     "output_type": "display_data"
    }
   ],
   "source": [
    "counts = 0\n",
    "docs = []\n",
    "\n",
    "pbar = tqdm(snippets)\n",
    "for testset_idx, snippet in pbar:\n",
    "    result = engine.find(input_ids=list(snippet))\n",
    "    counts += result['cnt']\n",
    "    \n",
    "    if result['cnt'] > 0:\n",
    "        for shard in range(len(result['segment_by_shard'])):\n",
    "            for i in range(result['segment_by_shard'][shard][0], result['segment_by_shard'][shard][1]):\n",
    "                if i == 1000:\n",
    "                    break\n",
    "\n",
    "                doc_ix = engine.get_doc_by_rank(s=shard, rank=i, max_disp_len=None)['doc_ix'] \n",
    "                docs.append((testset_idx, doc_ix, snippet))\n",
    "                if False:\n",
    "                    print()\n",
    "                    print(result)\n",
    "                    print(docs)\n",
    "\n",
    "    pbar.set_description('%d' % counts)"
   ]
  },
  {
   "cell_type": "code",
   "execution_count": 11,
   "id": "a793b39f",
   "metadata": {},
   "outputs": [
    {
     "data": {
      "text/html": [
       "<div>\n",
       "<style scoped>\n",
       "    .dataframe tbody tr th:only-of-type {\n",
       "        vertical-align: middle;\n",
       "    }\n",
       "\n",
       "    .dataframe tbody tr th {\n",
       "        vertical-align: top;\n",
       "    }\n",
       "\n",
       "    .dataframe thead th {\n",
       "        text-align: right;\n",
       "    }\n",
       "</style>\n",
       "<table border=\"1\" class=\"dataframe\">\n",
       "  <thead>\n",
       "    <tr style=\"text-align: right;\">\n",
       "      <th></th>\n",
       "      <th>testset_idx</th>\n",
       "      <th>doc_ix</th>\n",
       "      <th>snippet</th>\n",
       "    </tr>\n",
       "  </thead>\n",
       "  <tbody>\n",
       "    <tr>\n",
       "      <th>0</th>\n",
       "      <td>25695</td>\n",
       "      <td>83692379</td>\n",
       "      <td>(310, 4832, 612, 331, 11344, 29899, 9816, 1670...</td>\n",
       "    </tr>\n",
       "    <tr>\n",
       "      <th>1</th>\n",
       "      <td>26141</td>\n",
       "      <td>43695868</td>\n",
       "      <td>(3677, 440, 22693, 322, 6993, 9316, 1951, 2987...</td>\n",
       "    </tr>\n",
       "    <tr>\n",
       "      <th>2</th>\n",
       "      <td>26472</td>\n",
       "      <td>28629849</td>\n",
       "      <td>(1302, 3372, 1218, 411, 278, 383, 12809, 297, ...</td>\n",
       "    </tr>\n",
       "    <tr>\n",
       "      <th>3</th>\n",
       "      <td>26472</td>\n",
       "      <td>76650874</td>\n",
       "      <td>(1302, 3372, 1218, 411, 278, 383, 12809, 297, ...</td>\n",
       "    </tr>\n",
       "    <tr>\n",
       "      <th>4</th>\n",
       "      <td>26799</td>\n",
       "      <td>32394232</td>\n",
       "      <td>(940, 1497, 278, 2228, 310, 766, 11291, 292, 7...</td>\n",
       "    </tr>\n",
       "    <tr>\n",
       "      <th>...</th>\n",
       "      <td>...</td>\n",
       "      <td>...</td>\n",
       "      <td>...</td>\n",
       "    </tr>\n",
       "    <tr>\n",
       "      <th>4901</th>\n",
       "      <td>136983</td>\n",
       "      <td>118149526</td>\n",
       "      <td>(6114, 925, 1434, 902, 4892, 2645, 278, 12788,...</td>\n",
       "    </tr>\n",
       "    <tr>\n",
       "      <th>4902</th>\n",
       "      <td>136983</td>\n",
       "      <td>105252834</td>\n",
       "      <td>(6114, 925, 1434, 902, 4892, 2645, 278, 12788,...</td>\n",
       "    </tr>\n",
       "    <tr>\n",
       "      <th>4903</th>\n",
       "      <td>137965</td>\n",
       "      <td>118149526</td>\n",
       "      <td>(6114, 925, 1434, 902, 4892, 2645, 278, 12788,...</td>\n",
       "    </tr>\n",
       "    <tr>\n",
       "      <th>4904</th>\n",
       "      <td>137965</td>\n",
       "      <td>105252834</td>\n",
       "      <td>(6114, 925, 1434, 902, 4892, 2645, 278, 12788,...</td>\n",
       "    </tr>\n",
       "    <tr>\n",
       "      <th>4905</th>\n",
       "      <td>138053</td>\n",
       "      <td>65870631</td>\n",
       "      <td>[512, 9128, 27973, 3002, 1919, 278, 5864, 310,...</td>\n",
       "    </tr>\n",
       "  </tbody>\n",
       "</table>\n",
       "<p>4906 rows × 3 columns</p>\n",
       "</div>"
      ],
      "text/plain": [
       "      testset_idx     doc_ix  \\\n",
       "0           25695   83692379   \n",
       "1           26141   43695868   \n",
       "2           26472   28629849   \n",
       "3           26472   76650874   \n",
       "4           26799   32394232   \n",
       "...           ...        ...   \n",
       "4901       136983  118149526   \n",
       "4902       136983  105252834   \n",
       "4903       137965  118149526   \n",
       "4904       137965  105252834   \n",
       "4905       138053   65870631   \n",
       "\n",
       "                                                snippet  \n",
       "0     (310, 4832, 612, 331, 11344, 29899, 9816, 1670...  \n",
       "1     (3677, 440, 22693, 322, 6993, 9316, 1951, 2987...  \n",
       "2     (1302, 3372, 1218, 411, 278, 383, 12809, 297, ...  \n",
       "3     (1302, 3372, 1218, 411, 278, 383, 12809, 297, ...  \n",
       "4     (940, 1497, 278, 2228, 310, 766, 11291, 292, 7...  \n",
       "...                                                 ...  \n",
       "4901  (6114, 925, 1434, 902, 4892, 2645, 278, 12788,...  \n",
       "4902  (6114, 925, 1434, 902, 4892, 2645, 278, 12788,...  \n",
       "4903  (6114, 925, 1434, 902, 4892, 2645, 278, 12788,...  \n",
       "4904  (6114, 925, 1434, 902, 4892, 2645, 278, 12788,...  \n",
       "4905  [512, 9128, 27973, 3002, 1919, 278, 5864, 310,...  \n",
       "\n",
       "[4906 rows x 3 columns]"
      ]
     },
     "execution_count": 11,
     "metadata": {},
     "output_type": "execute_result"
    }
   ],
   "source": [
    "results = pd.DataFrame(docs, columns=['testset_idx', 'doc_ix', 'snippet'])\n",
    "results"
   ]
  },
  {
   "cell_type": "code",
   "execution_count": null,
   "id": "0e3f357c",
   "metadata": {},
   "outputs": [],
   "source": [
    "results.to_csv('results/shard_01.1_results.csv')"
   ]
  }
 ],
 "metadata": {
  "kernelspec": {
   "display_name": "py311",
   "language": "python",
   "name": "python3"
  },
  "language_info": {
   "codemirror_mode": {
    "name": "ipython",
    "version": 3
   },
   "file_extension": ".py",
   "mimetype": "text/x-python",
   "name": "python",
   "nbconvert_exporter": "python",
   "pygments_lexer": "ipython3",
   "version": "3.11.10"
  }
 },
 "nbformat": 4,
 "nbformat_minor": 5
}
